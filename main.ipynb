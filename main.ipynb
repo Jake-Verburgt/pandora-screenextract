{
 "cells": [
  {
   "attachments": {},
   "cell_type": "markdown",
   "metadata": {},
   "source": [
    "# Imports"
   ]
  },
  {
   "cell_type": "code",
   "execution_count": null,
   "metadata": {},
   "outputs": [],
   "source": [
    "import pandas as pd\n",
    "from screenshot import Screenshot\n",
    "from ocr import read_image, threeline_format\n",
    "import glob\n",
    "import os\n",
    "import matplotlib.pyplot as plt\n",
    "import json\n",
    "from spotify import search_song, get_token, add_to_liked_songs\n",
    "\n",
    "from thefuzz import fuzz"
   ]
  },
  {
   "attachments": {},
   "cell_type": "markdown",
   "metadata": {},
   "source": [
    "# 0 Load Necessary Paths in JSON"
   ]
  },
  {
   "cell_type": "code",
   "execution_count": null,
   "metadata": {},
   "outputs": [],
   "source": [
    "with open(\"params.json\") as param_data:\n",
    "    params = json.load(param_data)\n",
    "\n",
    "for key, value in params.items():\n",
    "    print(key, value)"
   ]
  },
  {
   "attachments": {},
   "cell_type": "markdown",
   "metadata": {},
   "source": [
    "# 1 Process the Screensots"
   ]
  },
  {
   "attachments": {},
   "cell_type": "markdown",
   "metadata": {},
   "source": [
    "# 1.1 Accumulate the screensots into a DataFrame\n",
    "\n",
    "* ```screenshot_dir``` is a directory with only pandora sceenshots\n",
    "* ```screenshot_ext``` is the file extension (```jpg```, by default) of the screenshots"
   ]
  },
  {
   "cell_type": "code",
   "execution_count": null,
   "metadata": {},
   "outputs": [],
   "source": [
    "screenshot_path = \"./example/screenshots\"\n",
    "screenshot_ext = \"jpg\""
   ]
  },
  {
   "cell_type": "code",
   "execution_count": null,
   "metadata": {},
   "outputs": [],
   "source": [
    "screenshot_paths = glob.glob(os.path.join(screenshot_path, f\"*.{screenshot_ext}\"))\n",
    "print(f\"{len(screenshot_paths)} Screenshots Found!\")"
   ]
  },
  {
   "attachments": {},
   "cell_type": "markdown",
   "metadata": {},
   "source": [
    "## 1.2 Create \"Screenshot\" objects from the filepaths"
   ]
  },
  {
   "cell_type": "code",
   "execution_count": null,
   "metadata": {},
   "outputs": [],
   "source": [
    "screenshot_objs = [Screenshot(path) for path in screenshot_paths]"
   ]
  },
  {
   "attachments": {},
   "cell_type": "markdown",
   "metadata": {},
   "source": [
    "Let's take a look at the top if the images"
   ]
  },
  {
   "cell_type": "code",
   "execution_count": null,
   "metadata": {},
   "outputs": [],
   "source": [
    "fig, (ax1, ax2) = plt.subplots(1, 2, figsize=(8, 4))\n",
    "ax1.imshow(screenshot_objs[0].img[:400, :])\n",
    "ax1.set(yticklabels=[])\n",
    "ax1.set(xticklabels=[])\n",
    "ax1.set_title(\"Top of screenshot\")\n",
    "ax2.imshow(screenshot_objs[0].img[-400:, :])\n",
    "ax2.set(yticklabels=[])\n",
    "ax2.set(xticklabels=[])\n",
    "ax2.set_title(\"Bottom of screenshot\")\n",
    "\n",
    "fig.show()"
   ]
  },
  {
   "attachments": {},
   "cell_type": "markdown",
   "metadata": {},
   "source": [
    "### 1.2.1 Crop the images \n",
    "* Crop the image from the top (Remove status bar and top banner)\n",
    "* Crop the image from the bottom (remove bottom banner)\n",
    "* Crop from the left (Remove album art)"
   ]
  },
  {
   "cell_type": "code",
   "execution_count": null,
   "metadata": {},
   "outputs": [],
   "source": [
    "for screenshot in screenshot_objs:\n",
    "    screenshot.crop(upper_pixel = 128, lower_pixel = 168, left_pixel = 130)"
   ]
  },
  {
   "cell_type": "code",
   "execution_count": null,
   "metadata": {},
   "outputs": [],
   "source": [
    "fig, (ax1, ax2) = plt.subplots(1, 2, figsize=(8, 4))\n",
    "ax1.imshow(screenshot_objs[0].img[:400, :])\n",
    "ax1.set(yticklabels=[])\n",
    "ax1.set(xticklabels=[])\n",
    "ax1.set_title(\"Top of screenshot\")\n",
    "ax2.imshow(screenshot_objs[0].img[-400:, :])\n",
    "ax2.set(yticklabels=[])\n",
    "ax2.set(xticklabels=[])\n",
    "ax2.set_title(\"Bottom of screenshot\")\n",
    "\n",
    "fig.show()"
   ]
  },
  {
   "attachments": {},
   "cell_type": "markdown",
   "metadata": {},
   "source": [
    "### 1.2.2 Identify the Horizontal Seperators (lignt gray lines between songs)"
   ]
  },
  {
   "cell_type": "code",
   "execution_count": null,
   "metadata": {},
   "outputs": [],
   "source": [
    "for screenshot in screenshot_objs:\n",
    "    screenshot.find_seperators()"
   ]
  },
  {
   "attachments": {},
   "cell_type": "markdown",
   "metadata": {},
   "source": [
    "### 1.2.3 Use the seperators to crop out each song"
   ]
  },
  {
   "cell_type": "code",
   "execution_count": null,
   "metadata": {},
   "outputs": [],
   "source": [
    "for screenshot in screenshot_objs:\n",
    "    screenshot.partition()"
   ]
  },
  {
   "cell_type": "code",
   "execution_count": null,
   "metadata": {},
   "outputs": [],
   "source": [
    "partitioned_images = screenshot_objs[0].partitioned_imgs[:9]\n",
    "\n",
    "fig, axes = plt.subplots(3, 3, figsize=(8, 4))\n",
    "axes = [ax for row in axes for ax in row] #Just unpack\n",
    "for ax, img in zip(axes, partitioned_images):\n",
    "    ax.imshow(img, cmap=\"gray\")\n",
    "    ax.set(yticklabels=[])\n",
    "    ax.set(xticklabels=[])\n",
    "\n",
    "fig.show()"
   ]
  },
  {
   "attachments": {},
   "cell_type": "markdown",
   "metadata": {},
   "source": [
    "### Dump the partitioned songs to a directory"
   ]
  },
  {
   "cell_type": "code",
   "execution_count": null,
   "metadata": {},
   "outputs": [],
   "source": [
    "out_dir = \"./example/partitioned\"\n",
    "os.makedirs(out_dir, exist_ok = True)"
   ]
  },
  {
   "cell_type": "code",
   "execution_count": null,
   "metadata": {},
   "outputs": [],
   "source": [
    "for screenshot in screenshot_objs:\n",
    "    screenshot.write_partitions(out_dir)"
   ]
  },
  {
   "attachments": {},
   "cell_type": "markdown",
   "metadata": {},
   "source": [
    "# 2 Process the Images"
   ]
  },
  {
   "cell_type": "markdown",
   "metadata": {},
   "source": [
    "## 2.1 Aggregate the partitioned Images into a dataframe"
   ]
  },
  {
   "cell_type": "code",
   "execution_count": null,
   "metadata": {},
   "outputs": [],
   "source": [
    "partitioned_images = glob.glob(os.path.join(out_dir, \"*.jpg\"))\n",
    "image_df = pd.DataFrame({\"image_path\":partitioned_images})\n",
    "image_df.head()"
   ]
  },
  {
   "attachments": {},
   "cell_type": "markdown",
   "metadata": {},
   "source": [
    "## 2.2 Use OCR software to convert each image to text"
   ]
  },
  {
   "cell_type": "code",
   "execution_count": null,
   "metadata": {},
   "outputs": [],
   "source": [
    "image_df[\"image_text_raw\"] = image_df[\"image_path\"].apply(lambda x: read_image(x, params[\"TESSERACT_PATH\"]))\n",
    "image_df[\"image_text_raw\"] = image_df[\"image_text_raw\"].str.replace(\"|\", \"I\")\n",
    "image_df.head()"
   ]
  },
  {
   "attachments": {},
   "cell_type": "markdown",
   "metadata": {},
   "source": [
    "### 2.2.1 Get rid of cases that don't have three lines\n",
    "* Lines should be Name, Artist, Duration\n",
    "* If tesseract misread the image, get rid of it now, deal with these cases manually"
   ]
  },
  {
   "cell_type": "code",
   "execution_count": null,
   "metadata": {},
   "outputs": [],
   "source": [
    "#Check if the detected string has three lines (2 newline characters)\n",
    "image_df[\"properly_read\"] = image_df[\"image_text_raw\"].apply(lambda x: threeline_format(x))\n",
    "\n",
    "#Fork off improperly read cases into a different dataframe\n",
    "failed_row_df = image_df.loc[~image_df[\"properly_read\"]]\n",
    "#Keep only the properly read cases\n",
    "image_df = image_df.loc[image_df[\"properly_read\"]]"
   ]
  },
  {
   "attachments": {},
   "cell_type": "markdown",
   "metadata": {},
   "source": [
    "## 2.3 Get the song name and artist from the extracted text"
   ]
  },
  {
   "cell_type": "code",
   "execution_count": null,
   "metadata": {},
   "outputs": [],
   "source": [
    "image_df[\"name\"] = image_df[\"image_text_raw\"].apply(lambda x: x.strip().split(\"\\n\")[0])\n",
    "image_df[\"artist\"] = image_df[\"image_text_raw\"].apply(lambda x: x.strip().split(\"\\n\")[1])\n",
    "\n",
    "image_df.head()"
   ]
  },
  {
   "attachments": {},
   "cell_type": "markdown",
   "metadata": {},
   "source": [
    "# 3 Add Songs to Spotify"
   ]
  },
  {
   "attachments": {},
   "cell_type": "markdown",
   "metadata": {},
   "source": [
    "## 3.1 Set Up Spotify API and search for the songs"
   ]
  },
  {
   "cell_type": "code",
   "execution_count": null,
   "metadata": {},
   "outputs": [],
   "source": [
    "token = get_token(params[\"SPOTIFY_CLIENT_ID\"], \n",
    "                  params[\"SPOTIFY_CLIENT_SECRET\"],\n",
    "                  redirect_uri = params[\"SPOTIFY_REDIRECT_URI\"])\n",
    "\n",
    "print(\"token is:\", token)\n",
    "print(\"Querying Spotify for all songs...\")\n",
    "image_df[\"spotify_top_hit\"] = image_df.apply(lambda x: search_song(x[\"name\"], x[\"artist\"], token), axis=1)\n"
   ]
  },
  {
   "attachments": {},
   "cell_type": "markdown",
   "metadata": {},
   "source": [
    "### 3.1.1 Filter out any bad responses"
   ]
  },
  {
   "cell_type": "code",
   "execution_count": null,
   "metadata": {},
   "outputs": [],
   "source": [
    "#Fork off all the cases where a  None response was returned (Failed search)\n",
    "failed_row_df = failed_row_df.append(image_df.loc[image_df.spotify_top_hit.isna()])\n",
    "image_df = image_df.loc[(~image_df.spotify_top_hit.isna())]"
   ]
  },
  {
   "cell_type": "code",
   "execution_count": null,
   "metadata": {},
   "outputs": [],
   "source": [
    "print(f\"Successfully Identified {image_df.shape[0]} songs on Spotify\")"
   ]
  },
  {
   "attachments": {},
   "cell_type": "markdown",
   "metadata": {},
   "source": [
    "## 3.2 Extract the Spotify ID and Name from the top hit"
   ]
  },
  {
   "cell_type": "code",
   "execution_count": null,
   "metadata": {},
   "outputs": [],
   "source": [
    "#Extract ids and name from the spotify hit\n",
    "image_df[\"spotify_id\"] = image_df[\"spotify_top_hit\"].apply(lambda x: x[\"id\"])\n",
    "image_df[\"spotify_name\"] = image_df[\"spotify_top_hit\"].apply(lambda x: x[\"name\"])\n",
    "image_df[\"spotify_artist\"] = image_df[\"spotify_top_hit\"].apply(lambda x: x[\"artists\"][0][\"name\"])\n",
    "\n",
    "image_df.sample(5)"
   ]
  },
  {
   "attachments": {},
   "cell_type": "markdown",
   "metadata": {},
   "source": [
    "## Verify that Top hit is similar to extracted text with fuzzy text matching"
   ]
  },
  {
   "cell_type": "code",
   "execution_count": null,
   "metadata": {},
   "outputs": [],
   "source": [
    "#Do this later"
   ]
  },
  {
   "attachments": {},
   "cell_type": "markdown",
   "metadata": {},
   "source": [
    "## 3.3 Add Songs to spotify liked songs"
   ]
  },
  {
   "cell_type": "code",
   "execution_count": null,
   "metadata": {},
   "outputs": [],
   "source": [
    "for _, row in image_df.iterrows():\n",
    "    add_to_liked_songs(row[\"spotify_id\"])"
   ]
  },
  {
   "attachments": {},
   "cell_type": "markdown",
   "metadata": {},
   "source": [
    "# 4 Dump data to CSV"
   ]
  },
  {
   "cell_type": "code",
   "execution_count": null,
   "metadata": {},
   "outputs": [],
   "source": [
    "image_df.to_csv(\"image_df.csv\")\n",
    "failed_row_df.to_csv(\"failed_row_df.csv\")"
   ]
  }
 ],
 "metadata": {
  "kernelspec": {
   "display_name": "pandora-screenextract",
   "language": "python",
   "name": "python3"
  },
  "language_info": {
   "codemirror_mode": {
    "name": "ipython",
    "version": 3
   },
   "file_extension": ".py",
   "mimetype": "text/x-python",
   "name": "python",
   "nbconvert_exporter": "python",
   "pygments_lexer": "ipython3",
   "version": "3.11.3"
  },
  "orig_nbformat": 4
 },
 "nbformat": 4,
 "nbformat_minor": 2
}
